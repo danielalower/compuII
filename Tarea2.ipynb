{
 "cells": [
  {
   "cell_type": "markdown",
   "metadata": {},
   "source": [
    "Escribir una función que reciba una lista de la siguiente manera:\n",
    "```\n",
    "[\n",
    "[5,5][5,5][5,5][2,3],\n",
    "[1,2][5,5][9,100,299][5,5],\n",
    "[3,4][5,5][5,5][2,3,4],\n",
    "[5,5][2,3,4][0,0,0,0][5,5]\n",
    "]\n",
    "````\n",
    "*Funciones*\n",
    "\n",
    "- sumaTotalElementos(lista): Regresa la suma de cada elemento de la lista original en forma de lista. Ejemplo (2,3) -> 5 . Al final solo regresa un entero por cada elemento. [2,3,4]\n",
    "\n",
    "- Maximo(lista): Encuentra el máximo de las sumas anteriores\n",
    "\n",
    "- SumaSimilar(lista): Suma aquellos *elementos* de lista que sean del mismo tamaño.\n",
    "\n"
   ]
  },
  {
   "cell_type": "code",
   "execution_count": 24,
   "metadata": {
    "collapsed": false
   },
   "outputs": [],
   "source": [
    "l =[\n",
    "[5,5],[5,5],[5,5],[2,3],\n",
    "[1,2],[5,5],[9,100,299],[5,5],\n",
    "[3,4],[5,5],[5,5],[2,3,4],\n",
    "[5,5],[2,3,4],[0,0,0,0],[5,5]\n",
    "]"
   ]
  },
  {
   "cell_type": "code",
   "execution_count": 25,
   "metadata": {
    "collapsed": false
   },
   "outputs": [],
   "source": [
    "def SumaLista (m):\n",
    "    \n",
    "    listavacia=[]\n",
    "    for i in m:\n",
    "          listavacia.append(sum(i))\n",
    "    return listavacia"
   ]
  },
  {
   "cell_type": "code",
   "execution_count": 26,
   "metadata": {
    "collapsed": false
   },
   "outputs": [
    {
     "data": {
      "text/plain": [
       "[10, 10, 10, 5, 3, 10, 408, 10, 7, 10, 10, 9, 10, 9, 0, 10]"
      ]
     },
     "execution_count": 26,
     "metadata": {},
     "output_type": "execute_result"
    }
   ],
   "source": [
    "SumaLista(lista)"
   ]
  },
  {
   "cell_type": "code",
   "execution_count": 27,
   "metadata": {
    "collapsed": false
   },
   "outputs": [
    {
     "data": {
      "text/plain": [
       "[[5, 5],\n",
       " [5, 5],\n",
       " [5, 5],\n",
       " [2, 3],\n",
       " [1, 2],\n",
       " [5, 5],\n",
       " [9, 100, 299],\n",
       " [5, 5],\n",
       " [3, 4],\n",
       " [5, 5],\n",
       " [5, 5],\n",
       " [2, 3, 4],\n",
       " [5, 5],\n",
       " [2, 3, 4],\n",
       " [0, 0, 0, 0],\n",
       " [5, 5]]"
      ]
     },
     "execution_count": 27,
     "metadata": {},
     "output_type": "execute_result"
    }
   ],
   "source": [
    "lista"
   ]
  },
  {
   "cell_type": "code",
   "execution_count": 32,
   "metadata": {
    "collapsed": true
   },
   "outputs": [],
   "source": [
    "def alpha(omega):\n",
    "    print lista[0]\n",
    "    return omega"
   ]
  },
  {
   "cell_type": "code",
   "execution_count": 33,
   "metadata": {
    "collapsed": false
   },
   "outputs": [
    {
     "name": "stdout",
     "output_type": "stream",
     "text": [
      "[5, 5]\n"
     ]
    },
    {
     "data": {
      "text/plain": [
       "23"
      ]
     },
     "execution_count": 33,
     "metadata": {},
     "output_type": "execute_result"
    }
   ],
   "source": [
    "alpha(23)"
   ]
  },
  {
   "cell_type": "code",
   "execution_count": 30,
   "metadata": {
    "collapsed": false
   },
   "outputs": [
    {
     "ename": "NameError",
     "evalue": "name 'omega' is not defined",
     "output_type": "error",
     "traceback": [
      "\u001b[0;31m---------------------------------------------------------------------------\u001b[0m",
      "\u001b[0;31mNameError\u001b[0m                                 Traceback (most recent call last)",
      "\u001b[0;32m<ipython-input-30-0df31c87abcb>\u001b[0m in \u001b[0;36m<module>\u001b[0;34m()\u001b[0m\n\u001b[0;32m----> 1\u001b[0;31m \u001b[0;32mprint\u001b[0m \u001b[0momega\u001b[0m\u001b[0;34m\u001b[0m\u001b[0m\n\u001b[0m",
      "\u001b[0;31mNameError\u001b[0m: name 'omega' is not defined"
     ]
    }
   ],
   "source": [
    "print omega"
   ]
  },
  {
   "cell_type": "code",
   "execution_count": 31,
   "metadata": {
    "collapsed": false
   },
   "outputs": [
    {
     "data": {
      "text/plain": [
       "[[5, 5],\n",
       " [5, 5],\n",
       " [5, 5],\n",
       " [2, 3],\n",
       " [1, 2],\n",
       " [5, 5],\n",
       " [9, 100, 299],\n",
       " [5, 5],\n",
       " [3, 4],\n",
       " [5, 5],\n",
       " [5, 5],\n",
       " [2, 3, 4],\n",
       " [5, 5],\n",
       " [2, 3, 4],\n",
       " [0, 0, 0, 0],\n",
       " [5, 5]]"
      ]
     },
     "execution_count": 31,
     "metadata": {},
     "output_type": "execute_result"
    }
   ],
   "source": [
    "alpha(lista)"
   ]
  },
  {
   "cell_type": "code",
   "execution_count": null,
   "metadata": {
    "collapsed": true
   },
   "outputs": [],
   "source": []
  }
 ],
 "metadata": {
  "kernelspec": {
   "display_name": "Python 2",
   "language": "python",
   "name": "python2"
  },
  "language_info": {
   "codemirror_mode": {
    "name": "ipython",
    "version": 2
   },
   "file_extension": ".py",
   "mimetype": "text/x-python",
   "name": "python",
   "nbconvert_exporter": "python",
   "pygments_lexer": "ipython2",
   "version": "2.7.13"
  }
 },
 "nbformat": 4,
 "nbformat_minor": 2
}
